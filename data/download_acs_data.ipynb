{
 "cells": [
  {
   "cell_type": "markdown",
   "id": "c33b2699-7cf8-43ab-a39c-a57bd001df4b",
   "metadata": {},
   "source": [
    "Script to create feature files for case study on ACS Public Coverage for Figure 5b\n",
    "and retraining analysis in Section 6 of the manuscript"
   ]
  },
  {
   "cell_type": "code",
   "execution_count": 29,
   "id": "c0491b7d-9a91-47d3-a236-155ca55a3b3f",
   "metadata": {
    "tags": []
   },
   "outputs": [],
   "source": [
    "import numpy as np\n",
    "import pandas as pd\n",
    "\n",
    "from matplotlib import pyplot as plt\n",
    "\n",
    "from sklearn.model_selection import GridSearchCV\n",
    "from sklearn.model_selection import train_test_split\n",
    "from sklearn.ensemble import RandomForestClassifier\n",
    "from sklearn.linear_model import LogisticRegression\n",
    "from sklearn.metrics import accuracy_score, balanced_accuracy_score, roc_auc_score"
   ]
  },
  {
   "cell_type": "code",
   "execution_count": null,
   "id": "f8255ace-88d9-40f2-ada1-c23526424e50",
   "metadata": {},
   "outputs": [],
   "source": [
    "!pip install folktables whyshift"
   ]
  },
  {
   "cell_type": "code",
   "execution_count": 30,
   "id": "ce0d73a5-338b-4519-b18e-9e2ed2f6b1e2",
   "metadata": {
    "tags": []
   },
   "outputs": [],
   "source": [
    "from whyshift import get_data\n",
    "from folktables import ACSDataSource\n",
    "\n",
    "def prepare_data_acs(outcome, state, year=2018):\n",
    "    data_source = ACSDataSource(survey_year='2018', horizon='1-Year', survey='person')\n",
    "    _ = data_source.get_data(states=[state], download=True)\n",
    "    \n",
    "    X, y, feature_names = get_data(outcome, state, True, './data/', year)\n",
    "    Xy = np.concatenate([X,y[:,np.newaxis]],axis=1)\n",
    "    df = pd.DataFrame(Xy, columns=feature_names+[\"target\"])\n",
    "    features = [i for i in feature_names+[\"target\"] if (('relp' not in i) and ('occp' not in i) and ('cow' not in i))]\n",
    "    print(len(features))\n",
    "    df[features].to_csv(\"%s_%s_%s.csv\" % (outcome, state, year))\n",
    "    return df[features]"
   ]
  },
  {
   "cell_type": "code",
   "execution_count": 31,
   "id": "b1edca0c-d7c6-4450-9473-bdbc1940e7f1",
   "metadata": {
    "tags": []
   },
   "outputs": [
    {
     "name": "stdout",
     "output_type": "stream",
     "text": [
      "43\n",
      "43\n"
     ]
    }
   ],
   "source": [
    "sourceXWY_full = prepare_data_acs(\"pubcov\", \"NE\", 2018)\n",
    "targetXWY_full = prepare_data_acs(\"pubcov\", \"LA\", 2018)\n",
    "np.random.seed(0)"
   ]
  },
  {
   "cell_type": "code",
   "execution_count": 19,
   "id": "85649611-854e-43d4-b5e3-25e5fc42f382",
   "metadata": {
    "tags": []
   },
   "outputs": [],
   "source": [
    "sourceXWY_full = pd.read_csv(\"pubcov_NE_2018.csv\", index_col=0)\n",
    "targetXWY_full = pd.read_csv(\"pubcov_LA_2018.csv\", index_col=0)"
   ]
  },
  {
   "cell_type": "code",
   "execution_count": 20,
   "id": "2aafb2d6-8099-4653-9372-77f5bd84e49e",
   "metadata": {
    "tags": []
   },
   "outputs": [],
   "source": [
    "targetXWY_full = targetXWY_full.drop([\n",
    "    'race_black',\n",
    "    'race_am_ind',\n",
    "    'race_alaska',\n",
    "    'race_am_alaska',\n",
    "    'race_asian',\n",
    "    'race_hawaiian',\n",
    "    'race_other',\n",
    "    'race_two_or_more',\n",
    "], axis=1)\n",
    "sourceXWY_full = sourceXWY_full.drop([\n",
    "    'race_black',\n",
    "    'race_am_ind',\n",
    "    'race_alaska',\n",
    "    'race_am_alaska',\n",
    "    'race_asian',\n",
    "    'race_hawaiian',\n",
    "    'race_other',\n",
    "    'race_two_or_more',\n",
    "], axis=1)"
   ]
  },
  {
   "cell_type": "code",
   "execution_count": 21,
   "id": "73e66f12-1d7a-4bd4-850a-1c130f64105d",
   "metadata": {
    "tags": []
   },
   "outputs": [],
   "source": [
    "feature_names_XWY = sourceXWY_full.columns\n",
    "sourceXWY_full = sourceXWY_full.to_numpy()\n",
    "targetXWY_full = targetXWY_full.to_numpy()"
   ]
  },
  {
   "cell_type": "code",
   "execution_count": 22,
   "id": "9626fb59-6f0a-4e49-999f-0e0e0f9f8cec",
   "metadata": {
    "tags": []
   },
   "outputs": [
    {
     "data": {
      "text/plain": [
       "[(0, 'SEX'),\n",
       " (1, 'AGEP'),\n",
       " (2, 'DIS'),\n",
       " (3, 'ESP'),\n",
       " (4, 'MIG'),\n",
       " (5, 'MIL'),\n",
       " (6, 'ANC'),\n",
       " (7, 'NATIVITY'),\n",
       " (8, 'DEAR'),\n",
       " (9, 'DEYE'),\n",
       " (10, 'DREM'),\n",
       " (11, 'PINCP'),\n",
       " (12, 'FER'),\n",
       " (13, 'married'),\n",
       " (14, 'widowed'),\n",
       " (15, 'divorced'),\n",
       " (16, 'separated'),\n",
       " (17, 'never'),\n",
       " (18, 'race_white'),\n",
       " (19, 'SCHL'),\n",
       " (20, 'schl_at_least_bachelor'),\n",
       " (21, 'schl_at_least_high_school_or_ged'),\n",
       " (22, 'schl_postgrad'),\n",
       " (23, 'CIT_us'),\n",
       " (24, 'CIT_pr'),\n",
       " (25, 'CIT_abroad'),\n",
       " (26, 'CIT_citizen'),\n",
       " (27, 'CIT_not'),\n",
       " (28, 'ESR_employed'),\n",
       " (29, 'ESR_partial_employed'),\n",
       " (30, 'ESR_unemployed'),\n",
       " (31, 'ESR_armed'),\n",
       " (32, 'ESR_partial_armed'),\n",
       " (33, 'ESR_no'),\n",
       " (34, 'target')]"
      ]
     },
     "execution_count": 22,
     "metadata": {},
     "output_type": "execute_result"
    }
   ],
   "source": [
    "list(enumerate(feature_names_XWY))"
   ]
  },
  {
   "cell_type": "code",
   "execution_count": 23,
   "id": "0bebec44-7f07-4991-a641-a8a5a4ddb472",
   "metadata": {
    "tags": []
   },
   "outputs": [],
   "source": [
    "feature_df = pd.DataFrame(feature_names_XWY, columns=[\"vars_name\"])\n",
    "feature_df = feature_df[~feature_df[\"vars_name\"].isin(['SEX','AGEP','race_white'])]\n",
    "feature_df.insert(loc=0, column=\"vars\", value=np.arange(feature_df.shape[0])+1)\n",
    "feature_df[\"vars\"] = \"X\"+feature_df[\"vars\"].astype(str)\n",
    "feature_df[\"y_axis_name\"] = \"Variable\"\n",
    "feature_df.iloc[:-1,:].to_csv(\"acs_pubcov_feature_names.csv\", index=False)"
   ]
  },
  {
   "cell_type": "code",
   "execution_count": 24,
   "id": "a354a9e1-8693-41da-8e28-f29f46c92102",
   "metadata": {
    "tags": []
   },
   "outputs": [
    {
     "data": {
      "text/html": [
       "<div>\n",
       "<style scoped>\n",
       "    .dataframe tbody tr th:only-of-type {\n",
       "        vertical-align: middle;\n",
       "    }\n",
       "\n",
       "    .dataframe tbody tr th {\n",
       "        vertical-align: top;\n",
       "    }\n",
       "\n",
       "    .dataframe thead th {\n",
       "        text-align: right;\n",
       "    }\n",
       "</style>\n",
       "<table border=\"1\" class=\"dataframe\">\n",
       "  <thead>\n",
       "    <tr style=\"text-align: right;\">\n",
       "      <th></th>\n",
       "      <th>vars</th>\n",
       "      <th>vars_name</th>\n",
       "      <th>y_axis_name</th>\n",
       "    </tr>\n",
       "  </thead>\n",
       "  <tbody>\n",
       "    <tr>\n",
       "      <th>2</th>\n",
       "      <td>X1</td>\n",
       "      <td>DIS</td>\n",
       "      <td>Variable</td>\n",
       "    </tr>\n",
       "    <tr>\n",
       "      <th>3</th>\n",
       "      <td>X2</td>\n",
       "      <td>ESP</td>\n",
       "      <td>Variable</td>\n",
       "    </tr>\n",
       "    <tr>\n",
       "      <th>4</th>\n",
       "      <td>X3</td>\n",
       "      <td>MIG</td>\n",
       "      <td>Variable</td>\n",
       "    </tr>\n",
       "    <tr>\n",
       "      <th>5</th>\n",
       "      <td>X4</td>\n",
       "      <td>MIL</td>\n",
       "      <td>Variable</td>\n",
       "    </tr>\n",
       "    <tr>\n",
       "      <th>6</th>\n",
       "      <td>X5</td>\n",
       "      <td>ANC</td>\n",
       "      <td>Variable</td>\n",
       "    </tr>\n",
       "    <tr>\n",
       "      <th>7</th>\n",
       "      <td>X6</td>\n",
       "      <td>NATIVITY</td>\n",
       "      <td>Variable</td>\n",
       "    </tr>\n",
       "    <tr>\n",
       "      <th>8</th>\n",
       "      <td>X7</td>\n",
       "      <td>DEAR</td>\n",
       "      <td>Variable</td>\n",
       "    </tr>\n",
       "    <tr>\n",
       "      <th>9</th>\n",
       "      <td>X8</td>\n",
       "      <td>DEYE</td>\n",
       "      <td>Variable</td>\n",
       "    </tr>\n",
       "    <tr>\n",
       "      <th>10</th>\n",
       "      <td>X9</td>\n",
       "      <td>DREM</td>\n",
       "      <td>Variable</td>\n",
       "    </tr>\n",
       "    <tr>\n",
       "      <th>11</th>\n",
       "      <td>X10</td>\n",
       "      <td>PINCP</td>\n",
       "      <td>Variable</td>\n",
       "    </tr>\n",
       "    <tr>\n",
       "      <th>12</th>\n",
       "      <td>X11</td>\n",
       "      <td>FER</td>\n",
       "      <td>Variable</td>\n",
       "    </tr>\n",
       "    <tr>\n",
       "      <th>13</th>\n",
       "      <td>X12</td>\n",
       "      <td>married</td>\n",
       "      <td>Variable</td>\n",
       "    </tr>\n",
       "    <tr>\n",
       "      <th>14</th>\n",
       "      <td>X13</td>\n",
       "      <td>widowed</td>\n",
       "      <td>Variable</td>\n",
       "    </tr>\n",
       "    <tr>\n",
       "      <th>15</th>\n",
       "      <td>X14</td>\n",
       "      <td>divorced</td>\n",
       "      <td>Variable</td>\n",
       "    </tr>\n",
       "    <tr>\n",
       "      <th>16</th>\n",
       "      <td>X15</td>\n",
       "      <td>separated</td>\n",
       "      <td>Variable</td>\n",
       "    </tr>\n",
       "    <tr>\n",
       "      <th>17</th>\n",
       "      <td>X16</td>\n",
       "      <td>never</td>\n",
       "      <td>Variable</td>\n",
       "    </tr>\n",
       "    <tr>\n",
       "      <th>19</th>\n",
       "      <td>X17</td>\n",
       "      <td>SCHL</td>\n",
       "      <td>Variable</td>\n",
       "    </tr>\n",
       "    <tr>\n",
       "      <th>20</th>\n",
       "      <td>X18</td>\n",
       "      <td>schl_at_least_bachelor</td>\n",
       "      <td>Variable</td>\n",
       "    </tr>\n",
       "    <tr>\n",
       "      <th>21</th>\n",
       "      <td>X19</td>\n",
       "      <td>schl_at_least_high_school_or_ged</td>\n",
       "      <td>Variable</td>\n",
       "    </tr>\n",
       "    <tr>\n",
       "      <th>22</th>\n",
       "      <td>X20</td>\n",
       "      <td>schl_postgrad</td>\n",
       "      <td>Variable</td>\n",
       "    </tr>\n",
       "    <tr>\n",
       "      <th>23</th>\n",
       "      <td>X21</td>\n",
       "      <td>CIT_us</td>\n",
       "      <td>Variable</td>\n",
       "    </tr>\n",
       "    <tr>\n",
       "      <th>24</th>\n",
       "      <td>X22</td>\n",
       "      <td>CIT_pr</td>\n",
       "      <td>Variable</td>\n",
       "    </tr>\n",
       "    <tr>\n",
       "      <th>25</th>\n",
       "      <td>X23</td>\n",
       "      <td>CIT_abroad</td>\n",
       "      <td>Variable</td>\n",
       "    </tr>\n",
       "    <tr>\n",
       "      <th>26</th>\n",
       "      <td>X24</td>\n",
       "      <td>CIT_citizen</td>\n",
       "      <td>Variable</td>\n",
       "    </tr>\n",
       "    <tr>\n",
       "      <th>27</th>\n",
       "      <td>X25</td>\n",
       "      <td>CIT_not</td>\n",
       "      <td>Variable</td>\n",
       "    </tr>\n",
       "    <tr>\n",
       "      <th>28</th>\n",
       "      <td>X26</td>\n",
       "      <td>ESR_employed</td>\n",
       "      <td>Variable</td>\n",
       "    </tr>\n",
       "    <tr>\n",
       "      <th>29</th>\n",
       "      <td>X27</td>\n",
       "      <td>ESR_partial_employed</td>\n",
       "      <td>Variable</td>\n",
       "    </tr>\n",
       "    <tr>\n",
       "      <th>30</th>\n",
       "      <td>X28</td>\n",
       "      <td>ESR_unemployed</td>\n",
       "      <td>Variable</td>\n",
       "    </tr>\n",
       "    <tr>\n",
       "      <th>31</th>\n",
       "      <td>X29</td>\n",
       "      <td>ESR_armed</td>\n",
       "      <td>Variable</td>\n",
       "    </tr>\n",
       "    <tr>\n",
       "      <th>32</th>\n",
       "      <td>X30</td>\n",
       "      <td>ESR_partial_armed</td>\n",
       "      <td>Variable</td>\n",
       "    </tr>\n",
       "    <tr>\n",
       "      <th>33</th>\n",
       "      <td>X31</td>\n",
       "      <td>ESR_no</td>\n",
       "      <td>Variable</td>\n",
       "    </tr>\n",
       "    <tr>\n",
       "      <th>34</th>\n",
       "      <td>X32</td>\n",
       "      <td>target</td>\n",
       "      <td>Variable</td>\n",
       "    </tr>\n",
       "  </tbody>\n",
       "</table>\n",
       "</div>"
      ],
      "text/plain": [
       "   vars                         vars_name y_axis_name\n",
       "2    X1                               DIS    Variable\n",
       "3    X2                               ESP    Variable\n",
       "4    X3                               MIG    Variable\n",
       "5    X4                               MIL    Variable\n",
       "6    X5                               ANC    Variable\n",
       "7    X6                          NATIVITY    Variable\n",
       "8    X7                              DEAR    Variable\n",
       "9    X8                              DEYE    Variable\n",
       "10   X9                              DREM    Variable\n",
       "11  X10                             PINCP    Variable\n",
       "12  X11                               FER    Variable\n",
       "13  X12                           married    Variable\n",
       "14  X13                           widowed    Variable\n",
       "15  X14                          divorced    Variable\n",
       "16  X15                         separated    Variable\n",
       "17  X16                             never    Variable\n",
       "19  X17                              SCHL    Variable\n",
       "20  X18            schl_at_least_bachelor    Variable\n",
       "21  X19  schl_at_least_high_school_or_ged    Variable\n",
       "22  X20                     schl_postgrad    Variable\n",
       "23  X21                            CIT_us    Variable\n",
       "24  X22                            CIT_pr    Variable\n",
       "25  X23                        CIT_abroad    Variable\n",
       "26  X24                       CIT_citizen    Variable\n",
       "27  X25                           CIT_not    Variable\n",
       "28  X26                      ESR_employed    Variable\n",
       "29  X27              ESR_partial_employed    Variable\n",
       "30  X28                    ESR_unemployed    Variable\n",
       "31  X29                         ESR_armed    Variable\n",
       "32  X30                 ESR_partial_armed    Variable\n",
       "33  X31                            ESR_no    Variable\n",
       "34  X32                            target    Variable"
      ]
     },
     "execution_count": 24,
     "metadata": {},
     "output_type": "execute_result"
    }
   ],
   "source": [
    "feature_df"
   ]
  },
  {
   "cell_type": "code",
   "execution_count": 34,
   "id": "ce88cf91-5f48-4468-b033-54d798532684",
   "metadata": {
    "tags": []
   },
   "outputs": [
    {
     "data": {
      "text/plain": [
       "((6332, 43), (16879, 43))"
      ]
     },
     "execution_count": 34,
     "metadata": {},
     "output_type": "execute_result"
    }
   ],
   "source": [
    "sourceXWY_full.shape, targetXWY_full.shape"
   ]
  },
  {
   "cell_type": "code",
   "execution_count": 35,
   "id": "7d4da3e2-af33-40ec-95f2-fb6bcf49a36d",
   "metadata": {
    "tags": []
   },
   "outputs": [],
   "source": [
    "source_val_size = 3000\n",
    "target_size = 6000\n",
    "source_train_size = 3300\n",
    "\n",
    "sourceXWY_train, sourceXWY_val = train_test_split(\n",
    "    sourceXWY_full, train_size=source_train_size, test_size=source_val_size, random_state=0)\n",
    "_, targetXWY_val = train_test_split(\n",
    "    targetXWY_full, test_size=target_size, random_state=0)"
   ]
  },
  {
   "cell_type": "code",
   "execution_count": 36,
   "id": "9e69b117-09a3-4013-b2a4-2c218f555a11",
   "metadata": {
    "tags": []
   },
   "outputs": [],
   "source": [
    "pd.DataFrame(\n",
    "    targetXWY_val.astype(float), \n",
    "    columns=feature_names_XWY\n",
    ").to_csv('acs_pubcov_target.csv', index=False)\n",
    "pd.DataFrame(\n",
    "    sourceXWY_val.astype(float), \n",
    "    columns=feature_names_XWY\n",
    ").to_csv('acs_pubcov_source_val.csv', index=False)\n",
    "pd.DataFrame(\n",
    "    sourceXWY_train.astype(float), \n",
    "    columns=feature_names_XWY\n",
    ").to_csv('acs_pubcov_source_train.csv', index=False)"
   ]
  },
  {
   "cell_type": "code",
   "execution_count": null,
   "id": "a5519f56-8ec4-44da-ae5b-03935957f38e",
   "metadata": {},
   "outputs": [],
   "source": []
  }
 ],
 "metadata": {
  "kernelspec": {
   "display_name": "Python 3 (ipykernel)",
   "language": "python",
   "name": "python3"
  },
  "language_info": {
   "codemirror_mode": {
    "name": "ipython",
    "version": 3
   },
   "file_extension": ".py",
   "mimetype": "text/x-python",
   "name": "python",
   "nbconvert_exporter": "python",
   "pygments_lexer": "ipython3",
   "version": "3.11.5"
  }
 },
 "nbformat": 4,
 "nbformat_minor": 5
}
